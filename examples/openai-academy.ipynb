{
 "cells": [
  {
   "cell_type": "markdown",
   "id": "08c90c7f",
   "metadata": {},
   "source": [
    "# OpenAI Academy\n",
    "\n",
    "[![Static Badge](https://img.shields.io/badge/Run%20in%20Modal%20-%20Agents?style=for-the-badge&color=green)](https://modal.com/notebooks/new/https://github.com/CelestoAI/agentor/blob/main/examples/openai-academy.ipynb)\n",
    "\n",
    "\n",
    "## Agents with examples"
   ]
  },
  {
   "cell_type": "code",
   "execution_count": null,
   "id": "5c8ad9e1",
   "metadata": {},
   "outputs": [],
   "source": [
    "# %uv pip install openai-agents==0.3.3 agentor"
   ]
  },
  {
   "cell_type": "markdown",
   "id": "a4df4611",
   "metadata": {},
   "source": [
    "## What is an Agent?\n",
    "\n",
    "<img src=\"https://i.imgflip.com/a7rr5a.jpg\" width=\"250px\">\n",
    "\n",
    "<br>\n",
    "\n",
    "## Agents are LLMs with higher autonomy\n",
    "\n",
    "- Tool access\n",
    "- Memory"
   ]
  },
  {
   "cell_type": "code",
   "execution_count": 28,
   "id": "b058fc10",
   "metadata": {},
   "outputs": [
    {
     "data": {
      "text/html": [
       "<pre style=\"white-space:pre;overflow-x:auto;line-height:normal;font-family:Menlo,'DejaVu Sans Mono',consolas,'Courier New',monospace\">Recursive code hums\n",
       "calling itself to finish\n",
       "and echoes again\n",
       "</pre>\n"
      ],
      "text/plain": [
       "Recursive code hums\n",
       "calling itself to finish\n",
       "and echoes again\n"
      ]
     },
     "metadata": {},
     "output_type": "display_data"
    }
   ],
   "source": [
    "from dotenv import load_dotenv\n",
    "from openai import OpenAI\n",
    "\n",
    "client = OpenAI()\n",
    "\n",
    "response = client.responses.create(\n",
    "    model=\"gpt-5-nano\",\n",
    "    input=\"Write a haiku about recursion in programming.\"\n",
    ")\n",
    "\n",
    "print(response.output[-1].content[0].text)"
   ]
  },
  {
   "cell_type": "code",
   "execution_count": 31,
   "id": "305cbcc7",
   "metadata": {},
   "outputs": [
    {
     "data": {
      "text/html": [
       "<pre style=\"white-space:pre;overflow-x:auto;line-height:normal;font-family:Menlo,'DejaVu Sans Mono',consolas,'Courier New',monospace\">Call itself again\n",
       "until the base case returns\n",
       "stack pops, calm again\n",
       "</pre>\n"
      ],
      "text/plain": [
       "Call itself again\n",
       "until the base case returns\n",
       "stack pops, calm again\n"
      ]
     },
     "metadata": {},
     "output_type": "display_data"
    }
   ],
   "source": [
    "import datetime as dt\n",
    "\n",
    "from agents import Agent, Runner\n",
    "\n",
    "load_dotenv()\n",
    "\n",
    "agent = Agent(name=\"Assistant\", instructions=\"You are a helpful assistant\", model=\"gpt-5-nano\")\n",
    "\n",
    "result = await Runner.run(agent, \"Write a haiku about recursion in programming.\")\n",
    "print(result.final_output)"
   ]
  },
  {
   "cell_type": "code",
   "execution_count": 3,
   "id": "fc446252",
   "metadata": {},
   "outputs": [
    {
     "name": "stdout",
     "output_type": "stream",
     "text": [
      "San Francisco.\n"
     ]
    }
   ],
   "source": [
    "agent = Agent(name=\"Assistant\", instructions=\"Reply very concisely.\")\n",
    "\n",
    "result = await Runner.run(agent, \"What city is the Golden Gate Bridge in?\")\n",
    "print(result.final_output)"
   ]
  },
  {
   "cell_type": "markdown",
   "id": "1dcb4c7d",
   "metadata": {},
   "source": [
    "# Tool use"
   ]
  },
  {
   "cell_type": "code",
   "execution_count": 25,
   "id": "f6ab005a",
   "metadata": {},
   "outputs": [
    {
     "data": {
      "text/html": [
       "<pre style=\"white-space:pre;overflow-x:auto;line-height:normal;font-family:Menlo,'DejaVu Sans Mono',consolas,'Courier New',monospace\">I don’t have live data. Please check a weather website or app for London’s current weather.\n",
       "</pre>\n"
      ],
      "text/plain": [
       "I don’t have live data. Please check a weather website or app for London’s current weather.\n"
      ]
     },
     "metadata": {},
     "output_type": "display_data"
    }
   ],
   "source": [
    "result = await Runner.run(agent, \"What is the weather in London?\")\n",
    "print(result.final_output)"
   ]
  },
  {
   "cell_type": "code",
   "execution_count": 27,
   "id": "245849dd",
   "metadata": {},
   "outputs": [],
   "source": [
    "def get_weather(city: str) -> str:\n",
    "    \"\"\"returns weather info for the specified city.\"\"\"\n",
    "    return f\"The weather in {city} is sunny\""
   ]
  },
  {
   "cell_type": "code",
   "execution_count": 33,
   "id": "11532f9f",
   "metadata": {},
   "outputs": [],
   "source": [
    "from agents import Agent, function_tool\n",
    "\n",
    "@function_tool\n",
    "def get_weather(city: str) -> str:\n",
    "    \"\"\"returns weather info for the specified city.\"\"\"\n",
    "    return f\"The weather in {city} is sunny\"\n",
    "\n",
    "agent = Agent(\n",
    "    name=\"Haiku agent\",\n",
    "    instructions=\"Always respond in haiku form\",\n",
    "    model=\"gpt-5-nano\",\n",
    "    tools=[get_weather],\n",
    ")"
   ]
  },
  {
   "cell_type": "code",
   "execution_count": 34,
   "id": "9593ef9d",
   "metadata": {},
   "outputs": [
    {
     "data": {
      "text/html": [
       "<pre style=\"white-space:pre;overflow-x:auto;line-height:normal;font-family:Menlo,'DejaVu Sans Mono',consolas,'Courier New',monospace\">Sunny London dawn\n",
       "Quiet streets glow with warm light\n",
       "London breathes summer\n",
       "</pre>\n"
      ],
      "text/plain": [
       "Sunny London dawn\n",
       "Quiet streets glow with warm light\n",
       "London breathes summer\n"
      ]
     },
     "metadata": {},
     "output_type": "display_data"
    }
   ],
   "source": [
    "result = await Runner.run(agent, \"What is the weather in London?\")\n",
    "print(result.final_output)"
   ]
  },
  {
   "cell_type": "code",
   "execution_count": 45,
   "id": "360fc6e1",
   "metadata": {},
   "outputs": [],
   "source": [
    "weather_tool_def = {\n",
    "    \"type\": \"function\",\n",
    "    \"name\": \"get_weather\",\n",
    "    \"description\": \"Retrieves current weather for the given location.\",\n",
    "    \"parameters\": {\n",
    "        \"type\": \"object\",\n",
    "        \"properties\": {\n",
    "            \"location\": {\n",
    "                \"type\": \"string\",\n",
    "                \"description\": \"City and country e.g. London, United Kingdom\"\n",
    "            },\n",
    "            \"units\": {\n",
    "                \"type\": \"string\",\n",
    "                \"enum\": [\"celsius\", \"fahrenheit\"],\n",
    "                \"description\": \"Units the temperature will be returned in.\"\n",
    "            }\n",
    "        },\n",
    "        \"required\": [\"location\", \"units\"],\n",
    "        \"additionalProperties\": False\n",
    "    },\n",
    "    \"strict\": True\n",
    "}\n",
    "\n",
    "def get_weather(location: str, units: str) -> str:\n",
    "    \"\"\"returns weather info for the specified location and units.\"\"\"\n",
    "    return f\"The weather in {location} is sunny with a temperature of 20 degrees {units}.\"\n",
    "\n",
    "tool_registry = {\n",
    "    \"get_weather\": get_weather\n",
    "}\n"
   ]
  },
  {
   "cell_type": "code",
   "execution_count": 41,
   "id": "c9e607ed",
   "metadata": {},
   "outputs": [],
   "source": [
    "client = OpenAI()\n",
    "\n",
    "response = client.responses.create(\n",
    "    model=\"gpt-5-nano\",\n",
    "    input=\"What is the weather in London?\",\n",
    "    tools=[weather_tool_def]\n",
    ")\n"
   ]
  },
  {
   "cell_type": "code",
   "execution_count": 48,
   "id": "0f8e2a78",
   "metadata": {},
   "outputs": [
    {
     "data": {
      "text/html": [
       "<pre style=\"white-space:pre;overflow-x:auto;line-height:normal;font-family:Menlo,'DejaVu Sans Mono',consolas,'Courier New',monospace\"><span style=\"color: #800080; text-decoration-color: #800080; font-weight: bold\">ResponseFunctionToolCall</span><span style=\"font-weight: bold\">(</span>\n",
       "    <span style=\"color: #808000; text-decoration-color: #808000\">arguments</span>=<span style=\"color: #008000; text-decoration-color: #008000\">'{\"location\":\"London, United Kingdom\",\"units\":\"celsius\"}'</span>,\n",
       "    <span style=\"color: #808000; text-decoration-color: #808000\">call_id</span>=<span style=\"color: #008000; text-decoration-color: #008000\">'call_nrQRnBrdprZfLraHuxz2K6rS'</span>,\n",
       "    <span style=\"color: #808000; text-decoration-color: #808000\">name</span>=<span style=\"color: #008000; text-decoration-color: #008000\">'get_weather'</span>,\n",
       "    <span style=\"color: #808000; text-decoration-color: #808000\">type</span>=<span style=\"color: #008000; text-decoration-color: #008000\">'function_call'</span>,\n",
       "    <span style=\"color: #808000; text-decoration-color: #808000\">id</span>=<span style=\"color: #008000; text-decoration-color: #008000\">'fc_0cfc4a178f9c5f750068e2d72791148196a74f509b29b01236'</span>,\n",
       "    <span style=\"color: #808000; text-decoration-color: #808000\">status</span>=<span style=\"color: #008000; text-decoration-color: #008000\">'completed'</span>\n",
       "<span style=\"font-weight: bold\">)</span>\n",
       "</pre>\n"
      ],
      "text/plain": [
       "\u001b[1;35mResponseFunctionToolCall\u001b[0m\u001b[1m(\u001b[0m\n",
       "    \u001b[33marguments\u001b[0m=\u001b[32m'\u001b[0m\u001b[32m{\u001b[0m\u001b[32m\"location\":\"London, United Kingdom\",\"units\":\"celsius\"\u001b[0m\u001b[32m}\u001b[0m\u001b[32m'\u001b[0m,\n",
       "    \u001b[33mcall_id\u001b[0m=\u001b[32m'call_nrQRnBrdprZfLraHuxz2K6rS'\u001b[0m,\n",
       "    \u001b[33mname\u001b[0m=\u001b[32m'get_weather'\u001b[0m,\n",
       "    \u001b[33mtype\u001b[0m=\u001b[32m'function_call'\u001b[0m,\n",
       "    \u001b[33mid\u001b[0m=\u001b[32m'fc_0cfc4a178f9c5f750068e2d72791148196a74f509b29b01236'\u001b[0m,\n",
       "    \u001b[33mstatus\u001b[0m=\u001b[32m'completed'\u001b[0m\n",
       "\u001b[1m)\u001b[0m\n"
      ]
     },
     "metadata": {},
     "output_type": "display_data"
    }
   ],
   "source": [
    "print(response.output[-1])"
   ]
  },
  {
   "cell_type": "code",
   "execution_count": 49,
   "id": "099eb119",
   "metadata": {},
   "outputs": [
    {
     "data": {
      "text/html": [
       "<pre style=\"white-space:pre;overflow-x:auto;line-height:normal;font-family:Menlo,'DejaVu Sans Mono',consolas,'Courier New',monospace\">The weather in London, United Kingdom is sunny with a temperature of <span style=\"color: #008080; text-decoration-color: #008080; font-weight: bold\">20</span> degrees celsius.\n",
       "</pre>\n"
      ],
      "text/plain": [
       "The weather in London, United Kingdom is sunny with a temperature of \u001b[1;36m20\u001b[0m degrees celsius.\n"
      ]
     },
     "metadata": {},
     "output_type": "display_data"
    }
   ],
   "source": [
    "import json\n",
    "\n",
    "if response.output[-1].type == \"function_call\":\n",
    "    fn_name = response.output[-1].name\n",
    "    arguments = json.loads(response.output[-1].arguments)\n",
    "    result = tool_registry[fn_name](**arguments)\n",
    "    print(result)\n",
    "else:\n",
    "    print(response.output[-1].content[0].text)"
   ]
  },
  {
   "cell_type": "markdown",
   "id": "1f0c5d4d",
   "metadata": {},
   "source": [
    "# Scheduling Agent\n",
    "\n",
    "We will build an Agent with access to email and calendar to help schedule meetings on behalf of the user.\n",
    "\n",
    "**Example conversation:**\n",
    "- Lock wants a meeting\n",
    "- Smith proposes a call\n",
    "- AI assistant handles scheduling automatically\n",
    "\n",
    "## Gmail and Calendar API"
   ]
  },
  {
   "cell_type": "code",
   "execution_count": 4,
   "id": "2c24b11ebf091423",
   "metadata": {},
   "outputs": [],
   "source": [
    "from agentor.integrations.google import GmailService, CalendarService, load_user_credentials\n",
    "from rich import print\n",
    "\n",
    "# Load your saved credentials\n",
    "creds = load_user_credentials(\"credentials.my_google_account.json\")\n",
    "\n",
    "gmail = GmailService(creds)\n",
    "calendar = CalendarService(creds)"
   ]
  },
  {
   "cell_type": "code",
   "execution_count": null,
   "id": "2a9746f9",
   "metadata": {},
   "outputs": [
    {
     "data": {
      "text/html": [
       "<pre style=\"white-space:pre;overflow-x:auto;line-height:normal;font-family:Menlo,'DejaVu Sans Mono',consolas,'Courier New',monospace\">List emails\n",
       "<span style=\"font-weight: bold\">{</span>\n",
       "    <span style=\"color: #008000; text-decoration-color: #008000\">'messages'</span>: <span style=\"font-weight: bold\">[</span>\n",
       "        <span style=\"font-weight: bold\">{</span><span style=\"color: #008000; text-decoration-color: #008000\">'id'</span>: <span style=\"color: #008000; text-decoration-color: #008000\">'199b58b30f5a36a7'</span>, <span style=\"color: #008000; text-decoration-color: #008000\">'threadId'</span>: <span style=\"color: #008000; text-decoration-color: #008000\">'199b58b30f5a36a7'</span><span style=\"font-weight: bold\">}</span>,\n",
       "        <span style=\"font-weight: bold\">{</span><span style=\"color: #008000; text-decoration-color: #008000\">'id'</span>: <span style=\"color: #008000; text-decoration-color: #008000\">'199b565a0687256a'</span>, <span style=\"color: #008000; text-decoration-color: #008000\">'threadId'</span>: <span style=\"color: #008000; text-decoration-color: #008000\">'199b565a0687256a'</span><span style=\"font-weight: bold\">}</span>\n",
       "    <span style=\"font-weight: bold\">]</span>,\n",
       "    <span style=\"color: #008000; text-decoration-color: #008000\">'nextPageToken'</span>: <span style=\"color: #008000; text-decoration-color: #008000\">'02678382694700749137'</span>\n",
       "<span style=\"font-weight: bold\">}</span>\n",
       "</pre>\n"
      ],
      "text/plain": [
       "List emails\n",
       "\u001b[1m{\u001b[0m\n",
       "    \u001b[32m'messages'\u001b[0m: \u001b[1m[\u001b[0m\n",
       "        \u001b[1m{\u001b[0m\u001b[32m'id'\u001b[0m: \u001b[32m'199b58b30f5a36a7'\u001b[0m, \u001b[32m'threadId'\u001b[0m: \u001b[32m'199b58b30f5a36a7'\u001b[0m\u001b[1m}\u001b[0m,\n",
       "        \u001b[1m{\u001b[0m\u001b[32m'id'\u001b[0m: \u001b[32m'199b565a0687256a'\u001b[0m, \u001b[32m'threadId'\u001b[0m: \u001b[32m'199b565a0687256a'\u001b[0m\u001b[1m}\u001b[0m\n",
       "    \u001b[1m]\u001b[0m,\n",
       "    \u001b[32m'nextPageToken'\u001b[0m: \u001b[32m'02678382694700749137'\u001b[0m\n",
       "\u001b[1m}\u001b[0m\n"
      ]
     },
     "metadata": {},
     "output_type": "display_data"
    },
    {
     "data": {
      "text/html": [
       "<pre style=\"white-space:pre;overflow-x:auto;line-height:normal;font-family:Menlo,'DejaVu Sans Mono',consolas,'Courier New',monospace\">Get an email\n",
       "<span style=\"font-weight: bold\">{</span>\n",
       "    <span style=\"color: #008000; text-decoration-color: #008000\">'message'</span>: <span style=\"font-weight: bold\">{</span>\n",
       "        <span style=\"color: #008000; text-decoration-color: #008000\">'id'</span>: <span style=\"color: #008000; text-decoration-color: #008000\">'199a56838f299758'</span>,\n",
       "        <span style=\"color: #008000; text-decoration-color: #008000\">'threadId'</span>: <span style=\"color: #008000; text-decoration-color: #008000\">'199a5672da2b36c4'</span>,\n",
       "        <span style=\"color: #008000; text-decoration-color: #008000\">'subject'</span>: <span style=\"color: #008000; text-decoration-color: #008000\">'Register for OpenAI Academy livestream'</span>,\n",
       "        <span style=\"color: #008000; text-decoration-color: #008000\">'from'</span>: <span style=\"color: #008000; text-decoration-color: #008000\">'An Moriarty &lt;moriartyany@gmail.com&gt;'</span><span style=\"color: #000000; text-decoration-color: #000000\">,</span>\n",
       "<span style=\"color: #000000; text-decoration-color: #000000\">        </span><span style=\"color: #008000; text-decoration-color: #008000\">'to'</span><span style=\"color: #000000; text-decoration-color: #000000\">: </span><span style=\"color: #008000; text-decoration-color: #008000\">'Aniket Maurya &lt;theaniketmaurya@gmail.com&gt;'</span>,\n",
       "        <span style=\"color: #008000; text-decoration-color: #008000\">'cc'</span>: <span style=\"color: #008000; text-decoration-color: #008000\">''</span>,\n",
       "        <span style=\"color: #008000; text-decoration-color: #008000\">'date'</span>: <span style=\"color: #008000; text-decoration-color: #008000\">'Thu, 2 Oct 2025 15:51:34 +0100'</span>,\n",
       "        <span style=\"color: #008000; text-decoration-color: #008000\">'snippet'</span>: <span style=\"color: #008000; text-decoration-color: #008000\">'Hi Aniket, Register for OpenAI Academy livestream to learn about Agentic systems. It&amp;#39;s </span>\n",
       "<span style=\"color: #008000; text-decoration-color: #008000\">online and free! Thanks, Aniket'</span>,\n",
       "        <span style=\"color: #008000; text-decoration-color: #008000\">'labels'</span>: <span style=\"font-weight: bold\">[</span><span style=\"color: #008000; text-decoration-color: #008000\">'SENT'</span><span style=\"font-weight: bold\">]</span>\n",
       "    <span style=\"font-weight: bold\">}</span>\n",
       "<span style=\"font-weight: bold\">}</span>\n",
       "</pre>\n"
      ],
      "text/plain": [
       "Get an email\n",
       "\u001b[1m{\u001b[0m\n",
       "    \u001b[32m'message'\u001b[0m: \u001b[1m{\u001b[0m\n",
       "        \u001b[32m'id'\u001b[0m: \u001b[32m'199a56838f299758'\u001b[0m,\n",
       "        \u001b[32m'threadId'\u001b[0m: \u001b[32m'199a5672da2b36c4'\u001b[0m,\n",
       "        \u001b[32m'subject'\u001b[0m: \u001b[32m'Register for OpenAI Academy livestream'\u001b[0m,\n",
       "        \u001b[32m'from'\u001b[0m: \u001b[32m'An Moriarty \u001b[0m\u001b[32m<\u001b[0m\u001b[32mmoriartyany\u001b[0m\u001b[32m@gmail.com>'\u001b[0m\u001b[39m,\u001b[0m\n",
       "\u001b[39m        \u001b[0m\u001b[32m'to'\u001b[0m\u001b[39m: \u001b[0m\u001b[32m'Aniket Maurya <theaniketmaurya@gmail.com\u001b[0m\u001b[32m>\u001b[0m\u001b[32m'\u001b[0m,\n",
       "        \u001b[32m'cc'\u001b[0m: \u001b[32m''\u001b[0m,\n",
       "        \u001b[32m'date'\u001b[0m: \u001b[32m'Thu, 2 Oct 2025 15:51:34 +0100'\u001b[0m,\n",
       "        \u001b[32m'snippet'\u001b[0m: \u001b[32m'Hi Aniket, Register for OpenAI Academy livestream to learn about Agentic systems. It&#39;s \u001b[0m\n",
       "\u001b[32monline and free! Thanks, Aniket'\u001b[0m,\n",
       "        \u001b[32m'labels'\u001b[0m: \u001b[1m[\u001b[0m\u001b[32m'SENT'\u001b[0m\u001b[1m]\u001b[0m\n",
       "    \u001b[1m}\u001b[0m\n",
       "\u001b[1m}\u001b[0m\n"
      ]
     },
     "metadata": {},
     "output_type": "display_data"
    }
   ],
   "source": [
    "print(\"List emails\", gmail.list_messages(limit=2))\n",
    "print(\"Get an email\", gmail.get_message(message_id=\"199a56838f299758\"))\n",
    "print(\"Get full email body\", gmail.get_message_body(message_id=\"199a56838f299758\"))"
   ]
  },
  {
   "cell_type": "code",
   "execution_count": 9,
   "id": "6c1d6906",
   "metadata": {},
   "outputs": [
    {
     "data": {
      "text/html": [
       "<pre style=\"white-space:pre;overflow-x:auto;line-height:normal;font-family:Menlo,'DejaVu Sans Mono',consolas,'Courier New',monospace\">Search emails\n",
       "<span style=\"font-weight: bold\">{</span>\n",
       "    <span style=\"color: #008000; text-decoration-color: #008000\">'messages'</span>: <span style=\"font-weight: bold\">[</span>\n",
       "        <span style=\"font-weight: bold\">{</span>\n",
       "            <span style=\"color: #008000; text-decoration-color: #008000\">'id'</span>: <span style=\"color: #008000; text-decoration-color: #008000\">'199a72a5b1e277b4'</span>,\n",
       "            <span style=\"color: #008000; text-decoration-color: #008000\">'threadId'</span>: <span style=\"color: #008000; text-decoration-color: #008000\">'199a72a5b1e277b4'</span>,\n",
       "            <span style=\"color: #008000; text-decoration-color: #008000\">'subject'</span>: <span style=\"color: #008000; text-decoration-color: #008000\">'Declined: Weekly sync @ Mon Oct 6, 2025 4pm - 5pm (BST) (moriartyany@gmail.com)'</span>,\n",
       "            <span style=\"color: #008000; text-decoration-color: #008000\">'from'</span>: <span style=\"color: #008000; text-decoration-color: #008000\">'Aniket Maurya &lt;theaniketmaurya@gmail.com&gt;'</span><span style=\"color: #000000; text-decoration-color: #000000\">,</span>\n",
       "<span style=\"color: #000000; text-decoration-color: #000000\">            </span><span style=\"color: #008000; text-decoration-color: #008000\">'to'</span><span style=\"color: #000000; text-decoration-color: #000000\">: </span><span style=\"color: #008000; text-decoration-color: #008000\">'moriartyany@gmail.com'</span><span style=\"color: #000000; text-decoration-color: #000000\">,</span>\n",
       "<span style=\"color: #000000; text-decoration-color: #000000\">            </span><span style=\"color: #008000; text-decoration-color: #008000\">'cc'</span><span style=\"color: #000000; text-decoration-color: #000000\">: </span><span style=\"color: #008000; text-decoration-color: #008000\">''</span><span style=\"color: #000000; text-decoration-color: #000000\">,</span>\n",
       "<span style=\"color: #000000; text-decoration-color: #000000\">            </span><span style=\"color: #008000; text-decoration-color: #008000\">'date'</span><span style=\"color: #000000; text-decoration-color: #000000\">: </span><span style=\"color: #008000; text-decoration-color: #008000\">'Thu, 02 Oct 2025 23:03:14 +0000'</span><span style=\"color: #000000; text-decoration-color: #000000\">,</span>\n",
       "<span style=\"color: #000000; text-decoration-color: #000000\">            </span><span style=\"color: #008000; text-decoration-color: #008000\">'snippet'</span><span style=\"color: #000000; text-decoration-color: #000000\">: </span><span style=\"color: #008000; text-decoration-color: #008000\">'Weekly sync Aniket Maurya has declined this invitation. Process updates and blockers When </span>\n",
       "<span style=\"color: #008000; text-decoration-color: #008000\">Monday Oct 6, 2025 ⋅ 4pm – 5pm (United Kingdom Time) Organizer moriartyany@gmail.com Guests Aniket Maurya View'</span><span style=\"color: #000000; text-decoration-color: #000000\">,</span>\n",
       "<span style=\"color: #000000; text-decoration-color: #000000\">            </span><span style=\"color: #008000; text-decoration-color: #008000\">'labels'</span><span style=\"color: #000000; text-decoration-color: #000000\">: </span><span style=\"color: #000000; text-decoration-color: #000000; font-weight: bold\">[</span><span style=\"color: #008000; text-decoration-color: #008000\">'UNREAD'</span><span style=\"color: #000000; text-decoration-color: #000000\">, </span><span style=\"color: #008000; text-decoration-color: #008000\">'CATEGORY_PERSONAL'</span><span style=\"color: #000000; text-decoration-color: #000000\">, </span><span style=\"color: #008000; text-decoration-color: #008000\">'INBOX'</span><span style=\"color: #000000; text-decoration-color: #000000; font-weight: bold\">]</span>\n",
       "<span style=\"color: #000000; text-decoration-color: #000000\">        </span><span style=\"color: #000000; text-decoration-color: #000000; font-weight: bold\">}</span><span style=\"color: #000000; text-decoration-color: #000000\">,</span>\n",
       "<span style=\"color: #000000; text-decoration-color: #000000\">        </span><span style=\"color: #000000; text-decoration-color: #000000; font-weight: bold\">{</span>\n",
       "<span style=\"color: #000000; text-decoration-color: #000000\">            </span><span style=\"color: #008000; text-decoration-color: #008000\">'id'</span><span style=\"color: #000000; text-decoration-color: #000000\">: </span><span style=\"color: #008000; text-decoration-color: #008000\">'199a72a485fac91c'</span><span style=\"color: #000000; text-decoration-color: #000000\">,</span>\n",
       "<span style=\"color: #000000; text-decoration-color: #000000\">            </span><span style=\"color: #008000; text-decoration-color: #008000\">'threadId'</span><span style=\"color: #000000; text-decoration-color: #000000\">: </span><span style=\"color: #008000; text-decoration-color: #008000\">'199a72a485fac91c'</span><span style=\"color: #000000; text-decoration-color: #000000\">,</span>\n",
       "<span style=\"color: #000000; text-decoration-color: #000000\">            </span><span style=\"color: #008000; text-decoration-color: #008000\">'subject'</span><span style=\"color: #000000; text-decoration-color: #000000\">: </span><span style=\"color: #008000; text-decoration-color: #008000\">'Accepted: Weekly sync @ Mon Oct 6, 2025 4pm - 5pm (BST) (moriartyany@gmail.com)'</span><span style=\"color: #000000; text-decoration-color: #000000\">,</span>\n",
       "<span style=\"color: #000000; text-decoration-color: #000000\">            </span><span style=\"color: #008000; text-decoration-color: #008000\">'from'</span><span style=\"color: #000000; text-decoration-color: #000000\">: </span><span style=\"color: #008000; text-decoration-color: #008000\">'Aniket Maurya &lt;theaniketmaurya@gmail.com&gt;'</span>,\n",
       "            <span style=\"color: #008000; text-decoration-color: #008000\">'to'</span>: <span style=\"color: #008000; text-decoration-color: #008000\">'moriartyany@gmail.com'</span>,\n",
       "            <span style=\"color: #008000; text-decoration-color: #008000\">'cc'</span>: <span style=\"color: #008000; text-decoration-color: #008000\">''</span>,\n",
       "            <span style=\"color: #008000; text-decoration-color: #008000\">'date'</span>: <span style=\"color: #008000; text-decoration-color: #008000\">'Thu, 02 Oct 2025 23:03:09 +0000'</span>,\n",
       "            <span style=\"color: #008000; text-decoration-color: #008000\">'snippet'</span>: <span style=\"color: #008000; text-decoration-color: #008000\">'Weekly sync Aniket Maurya has accepted this invitation. Process updates and blockers When </span>\n",
       "<span style=\"color: #008000; text-decoration-color: #008000\">Monday Oct 6, 2025 ⋅ 4pm – 5pm (United Kingdom Time) Organizer moriartyany@gmail.com Guests Aniket Maurya View'</span>,\n",
       "            <span style=\"color: #008000; text-decoration-color: #008000\">'labels'</span>: <span style=\"font-weight: bold\">[</span><span style=\"color: #008000; text-decoration-color: #008000\">'UNREAD'</span>, <span style=\"color: #008000; text-decoration-color: #008000\">'CATEGORY_PERSONAL'</span>, <span style=\"color: #008000; text-decoration-color: #008000\">'INBOX'</span><span style=\"font-weight: bold\">]</span>\n",
       "        <span style=\"font-weight: bold\">}</span>,\n",
       "        <span style=\"font-weight: bold\">{</span>\n",
       "            <span style=\"color: #008000; text-decoration-color: #008000\">'id'</span>: <span style=\"color: #008000; text-decoration-color: #008000\">'199740379d7befd6'</span>,\n",
       "            <span style=\"color: #008000; text-decoration-color: #008000\">'threadId'</span>: <span style=\"color: #008000; text-decoration-color: #008000\">'199740379d7befd6'</span>,\n",
       "            <span style=\"color: #008000; text-decoration-color: #008000\">'subject'</span>: <span style=\"color: #008000; text-decoration-color: #008000\">'Welcome to Celesto AI'</span>,\n",
       "            <span style=\"color: #008000; text-decoration-color: #008000\">'from'</span>: <span style=\"color: #008000; text-decoration-color: #008000\">'aniket@celesto.ai'</span>,\n",
       "            <span style=\"color: #008000; text-decoration-color: #008000\">'to'</span>: <span style=\"color: #008000; text-decoration-color: #008000\">'moriartyany@gmail.com'</span>,\n",
       "            <span style=\"color: #008000; text-decoration-color: #008000\">'cc'</span>: <span style=\"color: #008000; text-decoration-color: #008000\">''</span>,\n",
       "            <span style=\"color: #008000; text-decoration-color: #008000\">'date'</span>: <span style=\"color: #008000; text-decoration-color: #008000\">'Tue, 23 Sep 2025 00:40:08 +0000'</span>,\n",
       "            <span style=\"color: #008000; text-decoration-color: #008000\">'snippet'</span>: <span style=\"color: #008000; text-decoration-color: #008000\">'Welcome to Celesto AI! Hi An Moriarty, Thanks for signing up for Celesto AI — we&amp;#39;re </span>\n",
       "<span style=\"color: #008000; text-decoration-color: #008000\">excited to have you on board! Celesto AI helps you work smarter with complex documents — whether it&amp;#39;s'</span>,\n",
       "            <span style=\"color: #008000; text-decoration-color: #008000\">'labels'</span>: <span style=\"font-weight: bold\">[</span><span style=\"color: #008000; text-decoration-color: #008000\">'CATEGORY_UPDATES'</span>, <span style=\"color: #008000; text-decoration-color: #008000\">'INBOX'</span><span style=\"font-weight: bold\">]</span>\n",
       "        <span style=\"font-weight: bold\">}</span>\n",
       "    <span style=\"font-weight: bold\">]</span>\n",
       "<span style=\"font-weight: bold\">}</span>\n",
       "</pre>\n"
      ],
      "text/plain": [
       "Search emails\n",
       "\u001b[1m{\u001b[0m\n",
       "    \u001b[32m'messages'\u001b[0m: \u001b[1m[\u001b[0m\n",
       "        \u001b[1m{\u001b[0m\n",
       "            \u001b[32m'id'\u001b[0m: \u001b[32m'199a72a5b1e277b4'\u001b[0m,\n",
       "            \u001b[32m'threadId'\u001b[0m: \u001b[32m'199a72a5b1e277b4'\u001b[0m,\n",
       "            \u001b[32m'subject'\u001b[0m: \u001b[32m'Declined: Weekly sync @ Mon Oct 6, 2025 4pm - 5pm \u001b[0m\u001b[32m(\u001b[0m\u001b[32mBST\u001b[0m\u001b[32m)\u001b[0m\u001b[32m \u001b[0m\u001b[32m(\u001b[0m\u001b[32mmoriartyany@gmail.com\u001b[0m\u001b[32m)\u001b[0m\u001b[32m'\u001b[0m,\n",
       "            \u001b[32m'from'\u001b[0m: \u001b[32m'Aniket Maurya \u001b[0m\u001b[32m<\u001b[0m\u001b[32mtheaniketmaurya\u001b[0m\u001b[32m@gmail.com>'\u001b[0m\u001b[39m,\u001b[0m\n",
       "\u001b[39m            \u001b[0m\u001b[32m'to'\u001b[0m\u001b[39m: \u001b[0m\u001b[32m'moriartyany@gmail.com'\u001b[0m\u001b[39m,\u001b[0m\n",
       "\u001b[39m            \u001b[0m\u001b[32m'cc'\u001b[0m\u001b[39m: \u001b[0m\u001b[32m''\u001b[0m\u001b[39m,\u001b[0m\n",
       "\u001b[39m            \u001b[0m\u001b[32m'date'\u001b[0m\u001b[39m: \u001b[0m\u001b[32m'Thu, 02 Oct 2025 23:03:14 +0000'\u001b[0m\u001b[39m,\u001b[0m\n",
       "\u001b[39m            \u001b[0m\u001b[32m'snippet'\u001b[0m\u001b[39m: \u001b[0m\u001b[32m'Weekly sync Aniket Maurya has declined this invitation. Process updates and blockers When \u001b[0m\n",
       "\u001b[32mMonday Oct 6, 2025 ⋅ 4pm – 5pm \u001b[0m\u001b[32m(\u001b[0m\u001b[32mUnited Kingdom Time\u001b[0m\u001b[32m)\u001b[0m\u001b[32m Organizer moriartyany@gmail.com Guests Aniket Maurya View'\u001b[0m\u001b[39m,\u001b[0m\n",
       "\u001b[39m            \u001b[0m\u001b[32m'labels'\u001b[0m\u001b[39m: \u001b[0m\u001b[1;39m[\u001b[0m\u001b[32m'UNREAD'\u001b[0m\u001b[39m, \u001b[0m\u001b[32m'CATEGORY_PERSONAL'\u001b[0m\u001b[39m, \u001b[0m\u001b[32m'INBOX'\u001b[0m\u001b[1;39m]\u001b[0m\n",
       "\u001b[39m        \u001b[0m\u001b[1;39m}\u001b[0m\u001b[39m,\u001b[0m\n",
       "\u001b[39m        \u001b[0m\u001b[1;39m{\u001b[0m\n",
       "\u001b[39m            \u001b[0m\u001b[32m'id'\u001b[0m\u001b[39m: \u001b[0m\u001b[32m'199a72a485fac91c'\u001b[0m\u001b[39m,\u001b[0m\n",
       "\u001b[39m            \u001b[0m\u001b[32m'threadId'\u001b[0m\u001b[39m: \u001b[0m\u001b[32m'199a72a485fac91c'\u001b[0m\u001b[39m,\u001b[0m\n",
       "\u001b[39m            \u001b[0m\u001b[32m'subject'\u001b[0m\u001b[39m: \u001b[0m\u001b[32m'Accepted: Weekly sync @ Mon Oct 6, 2025 4pm - 5pm \u001b[0m\u001b[32m(\u001b[0m\u001b[32mBST\u001b[0m\u001b[32m)\u001b[0m\u001b[32m \u001b[0m\u001b[32m(\u001b[0m\u001b[32mmoriartyany@gmail.com\u001b[0m\u001b[32m)\u001b[0m\u001b[32m'\u001b[0m\u001b[39m,\u001b[0m\n",
       "\u001b[39m            \u001b[0m\u001b[32m'from'\u001b[0m\u001b[39m: \u001b[0m\u001b[32m'Aniket Maurya <theaniketmaurya@gmail.com\u001b[0m\u001b[32m>\u001b[0m\u001b[32m'\u001b[0m,\n",
       "            \u001b[32m'to'\u001b[0m: \u001b[32m'moriartyany@gmail.com'\u001b[0m,\n",
       "            \u001b[32m'cc'\u001b[0m: \u001b[32m''\u001b[0m,\n",
       "            \u001b[32m'date'\u001b[0m: \u001b[32m'Thu, 02 Oct 2025 23:03:09 +0000'\u001b[0m,\n",
       "            \u001b[32m'snippet'\u001b[0m: \u001b[32m'Weekly sync Aniket Maurya has accepted this invitation. Process updates and blockers When \u001b[0m\n",
       "\u001b[32mMonday Oct 6, 2025 ⋅ 4pm – 5pm \u001b[0m\u001b[32m(\u001b[0m\u001b[32mUnited Kingdom Time\u001b[0m\u001b[32m)\u001b[0m\u001b[32m Organizer moriartyany@gmail.com Guests Aniket Maurya View'\u001b[0m,\n",
       "            \u001b[32m'labels'\u001b[0m: \u001b[1m[\u001b[0m\u001b[32m'UNREAD'\u001b[0m, \u001b[32m'CATEGORY_PERSONAL'\u001b[0m, \u001b[32m'INBOX'\u001b[0m\u001b[1m]\u001b[0m\n",
       "        \u001b[1m}\u001b[0m,\n",
       "        \u001b[1m{\u001b[0m\n",
       "            \u001b[32m'id'\u001b[0m: \u001b[32m'199740379d7befd6'\u001b[0m,\n",
       "            \u001b[32m'threadId'\u001b[0m: \u001b[32m'199740379d7befd6'\u001b[0m,\n",
       "            \u001b[32m'subject'\u001b[0m: \u001b[32m'Welcome to Celesto AI'\u001b[0m,\n",
       "            \u001b[32m'from'\u001b[0m: \u001b[32m'aniket@celesto.ai'\u001b[0m,\n",
       "            \u001b[32m'to'\u001b[0m: \u001b[32m'moriartyany@gmail.com'\u001b[0m,\n",
       "            \u001b[32m'cc'\u001b[0m: \u001b[32m''\u001b[0m,\n",
       "            \u001b[32m'date'\u001b[0m: \u001b[32m'Tue, 23 Sep 2025 00:40:08 +0000'\u001b[0m,\n",
       "            \u001b[32m'snippet'\u001b[0m: \u001b[32m'Welcome to Celesto AI! Hi An Moriarty, Thanks for signing up for Celesto AI — we&#39;re \u001b[0m\n",
       "\u001b[32mexcited to have you on board! Celesto AI helps you work smarter with complex documents — whether it&#39;s'\u001b[0m,\n",
       "            \u001b[32m'labels'\u001b[0m: \u001b[1m[\u001b[0m\u001b[32m'CATEGORY_UPDATES'\u001b[0m, \u001b[32m'INBOX'\u001b[0m\u001b[1m]\u001b[0m\n",
       "        \u001b[1m}\u001b[0m\n",
       "    \u001b[1m]\u001b[0m\n",
       "\u001b[1m}\u001b[0m\n"
      ]
     },
     "metadata": {},
     "output_type": "display_data"
    }
   ],
   "source": [
    "print(\"Search emails\", gmail.search_messages(query=\"from:aniket\"))"
   ]
  },
  {
   "cell_type": "code",
   "execution_count": null,
   "id": "91cd7557",
   "metadata": {},
   "outputs": [
    {
     "data": {
      "text/html": [
       "<pre style=\"white-space:pre;overflow-x:auto;line-height:normal;font-family:Menlo,'DejaVu Sans Mono',consolas,'Courier New',monospace\">List calendar events\n",
       "<span style=\"font-weight: bold\">{</span>\n",
       "    <span style=\"color: #008000; text-decoration-color: #008000\">'events'</span>: <span style=\"font-weight: bold\">[</span>\n",
       "        <span style=\"font-weight: bold\">{</span>\n",
       "            <span style=\"color: #008000; text-decoration-color: #008000\">'kind'</span>: <span style=\"color: #008000; text-decoration-color: #008000\">'calendar#event'</span>,\n",
       "            <span style=\"color: #008000; text-decoration-color: #008000\">'etag'</span>: <span style=\"color: #008000; text-decoration-color: #008000\">'\"3519250951695422\"'</span>,\n",
       "            <span style=\"color: #008000; text-decoration-color: #008000\">'id'</span>: <span style=\"color: #008000; text-decoration-color: #008000\">'js4l888sfn1if2fug4encmusb4'</span>,\n",
       "            <span style=\"color: #008000; text-decoration-color: #008000\">'status'</span>: <span style=\"color: #008000; text-decoration-color: #008000\">'confirmed'</span>,\n",
       "            <span style=\"color: #008000; text-decoration-color: #008000\">'htmlLink'</span>: \n",
       "<span style=\"color: #008000; text-decoration-color: #008000\">'https://www.google.com/calendar/event?eid=anM0bDg4OHNmbjFpZjJmdWc0ZW5jbXVzYjQgbW9yaWFydHlhbnlAbQ'</span>,\n",
       "            <span style=\"color: #008000; text-decoration-color: #008000\">'created'</span>: <span style=\"color: #008000; text-decoration-color: #008000\">'2025-10-05T00:51:15.000Z'</span>,\n",
       "            <span style=\"color: #008000; text-decoration-color: #008000\">'updated'</span>: <span style=\"color: #008000; text-decoration-color: #008000\">'2025-10-05T00:51:15.847Z'</span>,\n",
       "            <span style=\"color: #008000; text-decoration-color: #008000\">'summary'</span>: <span style=\"color: #008000; text-decoration-color: #008000\">'Celesto Test'</span>,\n",
       "            <span style=\"color: #008000; text-decoration-color: #008000\">'description'</span>: <span style=\"color: #008000; text-decoration-color: #008000\">'Process updates and blockers'</span>,\n",
       "            <span style=\"color: #008000; text-decoration-color: #008000\">'creator'</span>: <span style=\"font-weight: bold\">{</span><span style=\"color: #008000; text-decoration-color: #008000\">'email'</span>: <span style=\"color: #008000; text-decoration-color: #008000\">'moriartyany@gmail.com'</span>, <span style=\"color: #008000; text-decoration-color: #008000\">'self'</span>: <span style=\"color: #00ff00; text-decoration-color: #00ff00; font-style: italic\">True</span><span style=\"font-weight: bold\">}</span>,\n",
       "            <span style=\"color: #008000; text-decoration-color: #008000\">'organizer'</span>: <span style=\"font-weight: bold\">{</span><span style=\"color: #008000; text-decoration-color: #008000\">'email'</span>: <span style=\"color: #008000; text-decoration-color: #008000\">'moriartyany@gmail.com'</span>, <span style=\"color: #008000; text-decoration-color: #008000\">'self'</span>: <span style=\"color: #00ff00; text-decoration-color: #00ff00; font-style: italic\">True</span><span style=\"font-weight: bold\">}</span>,\n",
       "            <span style=\"color: #008000; text-decoration-color: #008000\">'start'</span>: <span style=\"font-weight: bold\">{</span><span style=\"color: #008000; text-decoration-color: #008000\">'dateTime'</span>: <span style=\"color: #008000; text-decoration-color: #008000\">'2025-10-06T16:00:00+01:00'</span>, <span style=\"color: #008000; text-decoration-color: #008000\">'timeZone'</span>: <span style=\"color: #008000; text-decoration-color: #008000\">'Europe/London'</span><span style=\"font-weight: bold\">}</span>,\n",
       "            <span style=\"color: #008000; text-decoration-color: #008000\">'end'</span>: <span style=\"font-weight: bold\">{</span><span style=\"color: #008000; text-decoration-color: #008000\">'dateTime'</span>: <span style=\"color: #008000; text-decoration-color: #008000\">'2025-10-06T17:00:00+01:00'</span>, <span style=\"color: #008000; text-decoration-color: #008000\">'timeZone'</span>: <span style=\"color: #008000; text-decoration-color: #008000\">'Europe/London'</span><span style=\"font-weight: bold\">}</span>,\n",
       "            <span style=\"color: #008000; text-decoration-color: #008000\">'iCalUID'</span>: <span style=\"color: #008000; text-decoration-color: #008000\">'js4l888sfn1if2fug4encmusb4@google.com'</span>,\n",
       "            <span style=\"color: #008000; text-decoration-color: #008000\">'sequence'</span>: <span style=\"color: #008080; text-decoration-color: #008080; font-weight: bold\">0</span>,\n",
       "            <span style=\"color: #008000; text-decoration-color: #008000\">'attendees'</span>: <span style=\"font-weight: bold\">[{</span><span style=\"color: #008000; text-decoration-color: #008000\">'email'</span>: <span style=\"color: #008000; text-decoration-color: #008000\">'theaniketmaurya@gmail.com'</span>, <span style=\"color: #008000; text-decoration-color: #008000\">'responseStatus'</span>: <span style=\"color: #008000; text-decoration-color: #008000\">'needsAction'</span><span style=\"font-weight: bold\">}]</span>,\n",
       "            <span style=\"color: #008000; text-decoration-color: #008000\">'reminders'</span>: <span style=\"font-weight: bold\">{</span><span style=\"color: #008000; text-decoration-color: #008000\">'useDefault'</span>: <span style=\"color: #00ff00; text-decoration-color: #00ff00; font-style: italic\">True</span><span style=\"font-weight: bold\">}</span>,\n",
       "            <span style=\"color: #008000; text-decoration-color: #008000\">'eventType'</span>: <span style=\"color: #008000; text-decoration-color: #008000\">'default'</span>\n",
       "        <span style=\"font-weight: bold\">}</span>\n",
       "    <span style=\"font-weight: bold\">]</span>,\n",
       "    <span style=\"color: #008000; text-decoration-color: #008000\">'nextPageToken'</span>: <span style=\"color: #800080; text-decoration-color: #800080; font-style: italic\">None</span>\n",
       "<span style=\"font-weight: bold\">}</span>\n",
       "</pre>\n"
      ],
      "text/plain": [
       "List calendar events\n",
       "\u001b[1m{\u001b[0m\n",
       "    \u001b[32m'events'\u001b[0m: \u001b[1m[\u001b[0m\n",
       "        \u001b[1m{\u001b[0m\n",
       "            \u001b[32m'kind'\u001b[0m: \u001b[32m'calendar#event'\u001b[0m,\n",
       "            \u001b[32m'etag'\u001b[0m: \u001b[32m'\"3519250951695422\"'\u001b[0m,\n",
       "            \u001b[32m'id'\u001b[0m: \u001b[32m'js4l888sfn1if2fug4encmusb4'\u001b[0m,\n",
       "            \u001b[32m'status'\u001b[0m: \u001b[32m'confirmed'\u001b[0m,\n",
       "            \u001b[32m'htmlLink'\u001b[0m: \n",
       "\u001b[32m'https://www.google.com/calendar/event?\u001b[0m\u001b[32meid\u001b[0m\u001b[32m=\u001b[0m\u001b[32manM0bDg4OHNmbjFpZjJmdWc0ZW5jbXVzYjQgbW9yaWFydHlhbnlAbQ\u001b[0m\u001b[32m'\u001b[0m,\n",
       "            \u001b[32m'created'\u001b[0m: \u001b[32m'2025-10-05T00:51:15.000Z'\u001b[0m,\n",
       "            \u001b[32m'updated'\u001b[0m: \u001b[32m'2025-10-05T00:51:15.847Z'\u001b[0m,\n",
       "            \u001b[32m'summary'\u001b[0m: \u001b[32m'Celesto Test'\u001b[0m,\n",
       "            \u001b[32m'description'\u001b[0m: \u001b[32m'Process updates and blockers'\u001b[0m,\n",
       "            \u001b[32m'creator'\u001b[0m: \u001b[1m{\u001b[0m\u001b[32m'email'\u001b[0m: \u001b[32m'moriartyany@gmail.com'\u001b[0m, \u001b[32m'self'\u001b[0m: \u001b[3;92mTrue\u001b[0m\u001b[1m}\u001b[0m,\n",
       "            \u001b[32m'organizer'\u001b[0m: \u001b[1m{\u001b[0m\u001b[32m'email'\u001b[0m: \u001b[32m'moriartyany@gmail.com'\u001b[0m, \u001b[32m'self'\u001b[0m: \u001b[3;92mTrue\u001b[0m\u001b[1m}\u001b[0m,\n",
       "            \u001b[32m'start'\u001b[0m: \u001b[1m{\u001b[0m\u001b[32m'dateTime'\u001b[0m: \u001b[32m'2025-10-06T16:00:00+01:00'\u001b[0m, \u001b[32m'timeZone'\u001b[0m: \u001b[32m'Europe/London'\u001b[0m\u001b[1m}\u001b[0m,\n",
       "            \u001b[32m'end'\u001b[0m: \u001b[1m{\u001b[0m\u001b[32m'dateTime'\u001b[0m: \u001b[32m'2025-10-06T17:00:00+01:00'\u001b[0m, \u001b[32m'timeZone'\u001b[0m: \u001b[32m'Europe/London'\u001b[0m\u001b[1m}\u001b[0m,\n",
       "            \u001b[32m'iCalUID'\u001b[0m: \u001b[32m'js4l888sfn1if2fug4encmusb4@google.com'\u001b[0m,\n",
       "            \u001b[32m'sequence'\u001b[0m: \u001b[1;36m0\u001b[0m,\n",
       "            \u001b[32m'attendees'\u001b[0m: \u001b[1m[\u001b[0m\u001b[1m{\u001b[0m\u001b[32m'email'\u001b[0m: \u001b[32m'theaniketmaurya@gmail.com'\u001b[0m, \u001b[32m'responseStatus'\u001b[0m: \u001b[32m'needsAction'\u001b[0m\u001b[1m}\u001b[0m\u001b[1m]\u001b[0m,\n",
       "            \u001b[32m'reminders'\u001b[0m: \u001b[1m{\u001b[0m\u001b[32m'useDefault'\u001b[0m: \u001b[3;92mTrue\u001b[0m\u001b[1m}\u001b[0m,\n",
       "            \u001b[32m'eventType'\u001b[0m: \u001b[32m'default'\u001b[0m\n",
       "        \u001b[1m}\u001b[0m\n",
       "    \u001b[1m]\u001b[0m,\n",
       "    \u001b[32m'nextPageToken'\u001b[0m: \u001b[3;35mNone\u001b[0m\n",
       "\u001b[1m}\u001b[0m\n"
      ]
     },
     "metadata": {},
     "output_type": "display_data"
    }
   ],
   "source": [
    "print(\"List calendar events\", calendar.list_events())"
   ]
  },
  {
   "cell_type": "code",
   "execution_count": null,
   "id": "112aa1f1",
   "metadata": {},
   "outputs": [],
   "source": [
    "event = {\n",
    "    \"summary\": \"OpenAI Academy - Agents SDK Session with Aniket\",\n",
    "    \"description\": \"I attended the OpenAI Academy live session on Agents SDK with Aniket\",\n",
    "    \"start\": dt.datetime(2025, 10, 6, 15, 0, tzinfo=dt.timezone.utc),\n",
    "    \"end\": dt.datetime(2025, 10, 6, 16, 0, tzinfo=dt.timezone.utc),\n",
    "    \"attendees\": [{\"email\": \"aniket@example.com\"}],\n",
    "}\n",
    "calendar.create_event(event=event)"
   ]
  },
  {
   "cell_type": "markdown",
   "id": "2f5a1e56",
   "metadata": {},
   "source": [
    "# Multi-agent system"
   ]
  },
  {
   "cell_type": "code",
   "execution_count": null,
   "id": "4400ab6f",
   "metadata": {},
   "outputs": [],
   "source": []
  },
  {
   "cell_type": "markdown",
   "id": "a2c871fd",
   "metadata": {},
   "source": [
    "## Agent handoff"
   ]
  },
  {
   "cell_type": "markdown",
   "id": "74832db0",
   "metadata": {},
   "source": [
    "## Agent as tool"
   ]
  }
 ],
 "metadata": {
  "kernelspec": {
   "display_name": "Python 3 (ipykernel)",
   "language": "python",
   "name": "python3"
  },
  "language_info": {
   "codemirror_mode": {
    "name": "ipython",
    "version": 3
   },
   "file_extension": ".py",
   "mimetype": "text/x-python",
   "name": "python",
   "nbconvert_exporter": "python",
   "pygments_lexer": "ipython3",
   "version": "3.13.5"
  }
 },
 "nbformat": 4,
 "nbformat_minor": 5
}
