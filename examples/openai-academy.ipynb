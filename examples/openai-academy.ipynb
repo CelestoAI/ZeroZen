{
 "cells": [
  {
   "cell_type": "markdown",
   "id": "08c90c7f",
   "metadata": {},
   "source": [
    "# OpenAI Academy\n",
    "\n",
    "## Scheduling Agent\n",
    "\n",
    "We will build an Agent with access to email and calendar to help schedule meetings on behalf of the user."
   ]
  },
  {
   "cell_type": "code",
   "execution_count": null,
   "id": "5c8ad9e1",
   "metadata": {},
   "outputs": [],
   "source": [
    "%uv pip install openai-agents==0.3.3"
   ]
  },
  {
   "cell_type": "markdown",
   "id": "a4df4611",
   "metadata": {},
   "source": [
    "## What is an Agent?\n",
    "\n",
    "<img src=\"https://i.imgflip.com/a7rr5a.jpg\" width=\"250px\">\n",
    "\n",
    "<br>\n",
    "\n",
    "## Agents are LLMs with higher autonomy\n",
    "\n",
    "- Tool access\n",
    "- Memory"
   ]
  },
  {
   "cell_type": "code",
   "execution_count": null,
   "id": "305cbcc7",
   "metadata": {},
   "outputs": [],
   "source": [
    "from agents import Agent, Runner\n",
    "\n",
    "agent = Agent(name=\"Assistant\", instructions=\"You are a helpful assistant\")\n",
    "\n",
    "result = await Runner.run(agent, \"Write a haiku about recursion in programming.\")\n",
    "print(result.final_output)"
   ]
  },
  {
   "cell_type": "code",
   "execution_count": null,
   "id": "fc446252",
   "metadata": {},
   "outputs": [],
   "source": [
    "agent = Agent(name=\"Assistant\", instructions=\"Reply very concisely.\")\n",
    "\n",
    "result = await Runner.run(agent, \"What city is the Golden Gate Bridge in?\")\n",
    "print(result.final_output)"
   ]
  },
  {
   "cell_type": "markdown",
   "id": "1f0c5d4d",
   "metadata": {},
   "source": [
    "## AI Scheduling in Action\n",
    "- Lock wants a meeting\n",
    "- Smith proposes a call\n",
    "- AI assistant handles scheduling automatically"
   ]
  },
  {
   "cell_type": "code",
   "execution_count": null,
   "id": "6803d7c4",
   "metadata": {},
   "outputs": [],
   "source": [
    "from zerozen.integrations.google import GmailService, load_user_credentials\n",
    "from rich import print\n",
    "\n",
    "# Load your saved credentials\n",
    "creds = load_user_credentials(\"credentials.my_google_account.json\")"
   ]
  },
  {
   "cell_type": "code",
   "execution_count": null,
   "id": "8c0a5fb5",
   "metadata": {},
   "outputs": [],
   "source": [
    "gmail = GmailService(creds)"
   ]
  },
  {
   "cell_type": "code",
   "execution_count": null,
   "id": "2a9746f9",
   "metadata": {},
   "outputs": [],
   "source": [
    "print(gmail.list_messages(limit=2))"
   ]
  },
  {
   "cell_type": "code",
   "execution_count": null,
   "id": "e162e387",
   "metadata": {},
   "outputs": [],
   "source": [
    "gmail.get_message(message_id=\"199a56838f299758\")"
   ]
  },
  {
   "cell_type": "code",
   "execution_count": null,
   "id": "902bdb81",
   "metadata": {},
   "outputs": [],
   "source": [
    "gmail.get_message_body(message_id=\"199a56838f299758\")"
   ]
  },
  {
   "cell_type": "code",
   "execution_count": null,
   "id": "6c1d6906",
   "metadata": {},
   "outputs": [],
   "source": [
    "gmail.search_messages(query=\"from:aniket\")"
   ]
  },
  {
   "cell_type": "code",
   "execution_count": null,
   "id": "91cd7557",
   "metadata": {},
   "outputs": [],
   "source": [
    "from zerozen.integrations.google import CalendarService\n",
    "import datetime as dt\n",
    "\n",
    "from zerozen.integrations.google import GmailService, load_user_credentials\n",
    "from rich import print\n",
    "\n",
    "# Load your saved credentials\n",
    "creds = load_user_credentials(\"credentials.my_google_account.json\")\n",
    "\n",
    "calendar = CalendarService(credentials=creds)"
   ]
  },
  {
   "cell_type": "code",
   "execution_count": null,
   "id": "a1a628f9",
   "metadata": {},
   "outputs": [
    {
     "data": {
      "text/plain": [
       "False"
      ]
     },
     "execution_count": null,
     "metadata": {},
     "output_type": "execute_result"
    }
   ],
   "source": [
    "calendar._credentials.has_scopes([\"https://www.googleapis.com/auth/calendar\"])"
   ]
  },
  {
   "cell_type": "code",
   "execution_count": null,
   "id": "210d38fe",
   "metadata": {},
   "outputs": [
    {
     "data": {
      "text/plain": [
       "{'events': [], 'nextPageToken': None}"
      ]
     },
     "execution_count": null,
     "metadata": {},
     "output_type": "execute_result"
    }
   ],
   "source": [
    "calendar.list_events()"
   ]
  },
  {
   "cell_type": "code",
   "execution_count": null,
   "id": "d2cbee62",
   "metadata": {},
   "outputs": [
    {
     "data": {
      "text/html": [
       "<pre style=\"white-space:pre;overflow-x:auto;line-height:normal;font-family:Menlo,'DejaVu Sans Mono',consolas,'Courier New',monospace\">scopes:\n",
       "<span style=\"font-weight: bold\">[</span>\n",
       "    <span style=\"color: #008000; text-decoration-color: #008000\">'openid'</span>,\n",
       "    <span style=\"color: #008000; text-decoration-color: #008000\">'https://www.googleapis.com/auth/gmail.readonly'</span>,\n",
       "    <span style=\"color: #008000; text-decoration-color: #008000\">'https://www.googleapis.com/auth/calendar.readonly'</span>,\n",
       "    <span style=\"color: #008000; text-decoration-color: #008000\">'https://www.googleapis.com/auth/userinfo.email'</span>\n",
       "<span style=\"font-weight: bold\">]</span>\n",
       "</pre>\n"
      ],
      "text/plain": [
       "scopes:\n",
       "\u001b[1m[\u001b[0m\n",
       "    \u001b[32m'openid'\u001b[0m,\n",
       "    \u001b[32m'https://www.googleapis.com/auth/gmail.readonly'\u001b[0m,\n",
       "    \u001b[32m'https://www.googleapis.com/auth/calendar.readonly'\u001b[0m,\n",
       "    \u001b[32m'https://www.googleapis.com/auth/userinfo.email'\u001b[0m\n",
       "\u001b[1m]\u001b[0m\n"
      ]
     },
     "metadata": {},
     "output_type": "display_data"
    }
   ],
   "source": [
    "print(\"scopes:\", getattr(calendar._credentials, \"scopes\", None))"
   ]
  },
  {
   "cell_type": "code",
   "execution_count": null,
   "id": "112aa1f1",
   "metadata": {},
   "outputs": [
    {
     "ename": "PermissionError",
     "evalue": "Google Calendar credentials do not include write access. Re-authorize with the https://www.googleapis.com/auth/calendar.events scope or the broader https://www.googleapis.com/auth/calendar scope. Current scopes: https://www.googleapis.com/auth/calendar.readonly, https://www.googleapis.com/auth/gmail.readonly, https://www.googleapis.com/auth/userinfo.email, openid.",
     "output_type": "error",
     "traceback": [
      "\u001b[31m---------------------------------------------------------------------------\u001b[39m",
      "\u001b[31mPermissionError\u001b[39m                           Traceback (most recent call last)",
      "\u001b[36mCell\u001b[39m\u001b[36m \u001b[39m\u001b[32mIn[5]\u001b[39m\u001b[32m, line 8\u001b[39m\n\u001b[32m      1\u001b[39m event = {\n\u001b[32m      2\u001b[39m     \u001b[33m\"\u001b[39m\u001b[33msummary\u001b[39m\u001b[33m\"\u001b[39m: \u001b[33m\"\u001b[39m\u001b[33mWeekly sync\u001b[39m\u001b[33m\"\u001b[39m,\n\u001b[32m      3\u001b[39m     \u001b[33m\"\u001b[39m\u001b[33mdescription\u001b[39m\u001b[33m\"\u001b[39m: \u001b[33m\"\u001b[39m\u001b[33mProcess updates and blockers\u001b[39m\u001b[33m\"\u001b[39m,\n\u001b[32m   (...)\u001b[39m\u001b[32m      6\u001b[39m     \u001b[33m\"\u001b[39m\u001b[33mattendees\u001b[39m\u001b[33m\"\u001b[39m: [{\u001b[33m\"\u001b[39m\u001b[33memail\u001b[39m\u001b[33m\"\u001b[39m: \u001b[33m\"\u001b[39m\u001b[33mtheaniketmaurya@gmail.com\u001b[39m\u001b[33m\"\u001b[39m}],\n\u001b[32m      7\u001b[39m }\n\u001b[32m----> \u001b[39m\u001b[32m8\u001b[39m \u001b[43mcalendar\u001b[49m\u001b[43m.\u001b[49m\u001b[43mcreate_event\u001b[49m\u001b[43m(\u001b[49m\u001b[43mevent\u001b[49m\u001b[43m=\u001b[49m\u001b[43mevent\u001b[49m\u001b[43m)\u001b[49m\n",
      "\u001b[36mFile \u001b[39m\u001b[32m~/Projects/github/zerozen/src/zerozen/integrations/google/calendar_tool.py:250\u001b[39m, in \u001b[36mCalendarService.create_event\u001b[39m\u001b[34m(self, event, calendar_id)\u001b[39m\n\u001b[32m    248\u001b[39m     \u001b[38;5;28;01mif\u001b[39;00m \u001b[38;5;28mself\u001b[39m._logger:\n\u001b[32m    249\u001b[39m         \u001b[38;5;28mself\u001b[39m._logger.warning(message)\n\u001b[32m--> \u001b[39m\u001b[32m250\u001b[39m     \u001b[38;5;28;01mraise\u001b[39;00m \u001b[38;5;167;01mPermissionError\u001b[39;00m(message)\n\u001b[32m    252\u001b[39m \u001b[38;5;28;01mdef\u001b[39;00m\u001b[38;5;250m \u001b[39m\u001b[34m_normalize_time\u001b[39m(block: t.Any) -> \u001b[38;5;28mdict\u001b[39m:\n\u001b[32m    253\u001b[39m     \u001b[38;5;28;01mif\u001b[39;00m \u001b[38;5;28misinstance\u001b[39m(block, dt.datetime):\n",
      "\u001b[31mPermissionError\u001b[39m: Google Calendar credentials do not include write access. Re-authorize with the https://www.googleapis.com/auth/calendar.events scope or the broader https://www.googleapis.com/auth/calendar scope. Current scopes: https://www.googleapis.com/auth/calendar.readonly, https://www.googleapis.com/auth/gmail.readonly, https://www.googleapis.com/auth/userinfo.email, openid."
     ]
    }
   ],
   "source": [
    "event = {\n",
    "    \"summary\": \"Weekly sync\",\n",
    "    \"description\": \"Process updates and blockers\",\n",
    "    \"start\": dt.datetime(2025, 10, 6, 15, 0, tzinfo=dt.timezone.utc),\n",
    "    \"end\": dt.datetime(2025, 10, 6, 16, 0, tzinfo=dt.timezone.utc),\n",
    "    \"attendees\": [{\"email\": \"theaniketmaurya@gmail.com\"}],\n",
    "}\n",
    "calendar.create_event(event=event)"
   ]
  }
 ],
 "metadata": {
  "kernelspec": {
   "display_name": ".venv",
   "language": "python",
   "name": "python3"
  },
  "language_info": {
   "codemirror_mode": {
    "name": "ipython",
    "version": 3
   },
   "file_extension": ".py",
   "mimetype": "text/x-python",
   "name": "python",
   "nbconvert_exporter": "python",
   "pygments_lexer": "ipython3"
  }
 },
 "nbformat": 4,
 "nbformat_minor": 5
}
