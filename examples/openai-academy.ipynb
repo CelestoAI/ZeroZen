{
 "cells": [
  {
   "cell_type": "markdown",
   "id": "08c90c7f",
   "metadata": {},
   "source": [
    "# OpenAI Academy\n",
    "\n",
    "## Scheduling Agent\n",
    "\n",
    "We will build an Agent with access to email and calendar to help schedule meetings on behalf of the user."
   ]
  },
  {
   "cell_type": "code",
   "execution_count": null,
   "id": "5c8ad9e1",
   "metadata": {},
   "outputs": [],
   "source": [
    "%uv pip install openai-agents==0.3.3"
   ]
  },
  {
   "cell_type": "markdown",
   "id": "a4df4611",
   "metadata": {},
   "source": [
    "## What is an Agent?\n",
    "\n",
    "<img src=\"https://i.imgflip.com/a7rr5a.jpg\" width=\"250px\">\n",
    "\n",
    "<br>\n",
    "\n",
    "## Agents are LLMs with higher autonomy\n",
    "\n",
    "- Tool access\n",
    "- Memory"
   ]
  },
  {
   "cell_type": "code",
   "execution_count": null,
   "id": "305cbcc7",
   "metadata": {},
   "outputs": [],
   "source": [
    "from agents import Agent, Runner\n",
    "\n",
    "agent = Agent(name=\"Assistant\", instructions=\"You are a helpful assistant\")\n",
    "\n",
    "result = await Runner.run(agent, \"Write a haiku about recursion in programming.\")\n",
    "print(result.final_output)"
   ]
  },
  {
   "cell_type": "code",
   "execution_count": null,
   "id": "fc446252",
   "metadata": {},
   "outputs": [],
   "source": [
    "agent = Agent(name=\"Assistant\", instructions=\"Reply very concisely.\")\n",
    "\n",
    "result = await Runner.run(agent, \"What city is the Golden Gate Bridge in?\")\n",
    "print(result.final_output)"
   ]
  },
  {
   "cell_type": "markdown",
   "id": "1f0c5d4d",
   "metadata": {},
   "source": [
    "## AI Scheduling in Action\n",
    "- Lock wants a meeting\n",
    "- Smith proposes a call\n",
    "- AI assistant handles scheduling automatically"
   ]
  },
  {
   "cell_type": "code",
   "execution_count": null,
   "id": "6803d7c4",
   "metadata": {},
   "outputs": [],
   "source": [
    "from zerozen.integrations.google import GmailService, load_user_credentials\n",
    "from rich import print\n",
    "\n",
    "# Load your saved credentials\n",
    "creds = load_user_credentials(\"credentials.my_google_account.json\")"
   ]
  },
  {
   "cell_type": "code",
   "execution_count": null,
   "id": "8c0a5fb5",
   "metadata": {},
   "outputs": [],
   "source": [
    "gmail = GmailService(creds)"
   ]
  },
  {
   "cell_type": "code",
   "execution_count": null,
   "id": "2a9746f9",
   "metadata": {},
   "outputs": [],
   "source": [
    "print(gmail.list_messages(limit=2))"
   ]
  },
  {
   "cell_type": "code",
   "execution_count": null,
   "id": "e162e387",
   "metadata": {},
   "outputs": [],
   "source": [
    "gmail.get_message(message_id=\"199a56838f299758\")"
   ]
  },
  {
   "cell_type": "code",
   "execution_count": null,
   "id": "902bdb81",
   "metadata": {},
   "outputs": [],
   "source": [
    "gmail.get_message_body(message_id=\"199a56838f299758\")"
   ]
  },
  {
   "cell_type": "code",
   "execution_count": null,
   "id": "6c1d6906",
   "metadata": {},
   "outputs": [],
   "source": [
    "gmail.search_messages(query=\"from:aniket\")"
   ]
  },
  {
   "cell_type": "code",
   "execution_count": null,
   "id": "91cd7557",
   "metadata": {},
   "outputs": [],
   "source": [
    "from zerozen.integrations.google import CalendarService\n",
    "import datetime as dt\n",
    "\n",
    "from zerozen.integrations.google import GmailService, load_user_credentials\n",
    "from rich import print\n",
    "\n",
    "# Load your saved credentials\n",
    "creds = load_user_credentials(\"credentials.my_google_account.json\")\n",
    "\n",
    "calendar = CalendarService(credentials=creds)"
   ]
  },
  {
   "cell_type": "code",
   "execution_count": null,
   "id": "ff0976f0",
   "metadata": {},
   "outputs": [],
   "source": [
    "event = {\n",
    "    \"summary\": \"Weekly sync\",\n",
    "    \"description\": \"Process updates and blockers\",\n",
    "    \"start\": dt.datetime(2025, 10, 6, 15, 0, tzinfo=dt.timezone.utc),\n",
    "    \"end\": dt.datetime(2025, 10, 6, 16, 0, tzinfo=dt.timezone.utc),\n",
    "    \"attendees\": [{\"email\": \"theaniketmaurya@gmail.com\"}],\n",
    "}"
   ]
  },
  {
   "cell_type": "code",
   "execution_count": null,
   "id": "210d38fe",
   "metadata": {},
   "outputs": [],
   "source": [
    "calendar.list_events()"
   ]
  },
  {
   "cell_type": "code",
   "execution_count": null,
   "id": "d2cbee62",
   "metadata": {},
   "outputs": [],
   "source": [
    "print(\"scopes:\", getattr(calendar._credentials, \"scopes\", None))"
   ]
  },
  {
   "cell_type": "code",
   "execution_count": null,
   "id": "b204042f",
   "metadata": {},
   "outputs": [],
   "source": [
    "calendar._credentials.has_scopes([\"https://www.googleapis.com/auth/email\"])"
   ]
  }
 ],
 "metadata": {
  "kernelspec": {
   "display_name": ".venv",
   "language": "python",
   "name": "python3"
  },
  "language_info": {
   "codemirror_mode": {
    "name": "ipython",
    "version": 3
   },
   "file_extension": ".py",
   "mimetype": "text/x-python",
   "name": "python",
   "nbconvert_exporter": "python",
   "pygments_lexer": "ipython3"
  }
 },
 "nbformat": 4,
 "nbformat_minor": 5
}
